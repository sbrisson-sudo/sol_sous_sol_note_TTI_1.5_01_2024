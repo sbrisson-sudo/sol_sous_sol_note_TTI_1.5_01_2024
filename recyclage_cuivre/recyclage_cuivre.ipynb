{
 "cells": [
  {
   "cell_type": "code",
   "execution_count": 2,
   "metadata": {},
   "outputs": [],
   "source": [
    "# Auteur : Sylvain Brisson (Mines Paris)\n",
    "\n",
    "import pandas as pd \n",
    "pd.options.plotting.backend = 'plotly'\n",
    "\n",
    "import numpy as np\n",
    "from scipy.interpolate import interp1d\n",
    "\n",
    "import plotly.graph_objects as go\n",
    "import matplotlib.pyplot as plt\n",
    "\n",
    "import matplotlib.colors as colors\n",
    "import matplotlib.cm as cmx\n",
    "\n",
    "from matplotlib import ticker\n",
    "\n",
    "plt.rcParams[\"figure.figsize\"] = (8,6)\n",
    "plt.rcParams.update({'font.size': 18,'legend.fontsize':15})\n",
    "plt.rcParams['savefig.pad_inches'] = 0.1\n"
   ]
  },
  {
   "cell_type": "code",
   "execution_count": 3,
   "metadata": {},
   "outputs": [
    {
     "data": {
      "text/html": [
       "<div>\n",
       "<style scoped>\n",
       "    .dataframe tbody tr th:only-of-type {\n",
       "        vertical-align: middle;\n",
       "    }\n",
       "\n",
       "    .dataframe tbody tr th {\n",
       "        vertical-align: top;\n",
       "    }\n",
       "\n",
       "    .dataframe thead th {\n",
       "        text-align: right;\n",
       "    }\n",
       "</style>\n",
       "<table border=\"1\" class=\"dataframe\">\n",
       "  <thead>\n",
       "    <tr style=\"text-align: right;\">\n",
       "      <th></th>\n",
       "      <th>Cu supply (Mt)</th>\n",
       "      <th>Cu primary production (Mt)</th>\n",
       "    </tr>\n",
       "    <tr>\n",
       "      <th>Year</th>\n",
       "      <th></th>\n",
       "      <th></th>\n",
       "    </tr>\n",
       "  </thead>\n",
       "  <tbody>\n",
       "    <tr>\n",
       "      <th>1960</th>\n",
       "      <td>4.426</td>\n",
       "      <td>3.721</td>\n",
       "    </tr>\n",
       "    <tr>\n",
       "      <th>1961</th>\n",
       "      <td>4.564</td>\n",
       "      <td>3.798</td>\n",
       "    </tr>\n",
       "    <tr>\n",
       "      <th>1962</th>\n",
       "      <td>4.702</td>\n",
       "      <td>3.877</td>\n",
       "    </tr>\n",
       "    <tr>\n",
       "      <th>1963</th>\n",
       "      <td>4.886</td>\n",
       "      <td>4.058</td>\n",
       "    </tr>\n",
       "    <tr>\n",
       "      <th>1964</th>\n",
       "      <td>5.071</td>\n",
       "      <td>4.365</td>\n",
       "    </tr>\n",
       "  </tbody>\n",
       "</table>\n",
       "</div>"
      ],
      "text/plain": [
       "      Cu supply (Mt)  Cu primary production (Mt)\n",
       "Year                                            \n",
       "1960           4.426                       3.721\n",
       "1961           4.564                       3.798\n",
       "1962           4.702                       3.877\n",
       "1963           4.886                       4.058\n",
       "1964           5.071                       4.365"
      ]
     },
     "execution_count": 3,
     "metadata": {},
     "output_type": "execute_result"
    }
   ],
   "source": [
    "# Production historique ICSG \n",
    "# Copper Factbook 2023 https://icsg.org/copper-factbook/\n",
    "df_hist_icsg = pd.read_csv(\"./data/ICSG_historical_data_1960_2022.csv\").set_index(\"Year\")\n",
    "df_hist_icsg.head()"
   ]
  },
  {
   "cell_type": "code",
   "execution_count": 4,
   "metadata": {},
   "outputs": [
    {
     "data": {
      "text/html": [
       "<div>\n",
       "<style scoped>\n",
       "    .dataframe tbody tr th:only-of-type {\n",
       "        vertical-align: middle;\n",
       "    }\n",
       "\n",
       "    .dataframe tbody tr th {\n",
       "        vertical-align: top;\n",
       "    }\n",
       "\n",
       "    .dataframe thead th {\n",
       "        text-align: right;\n",
       "    }\n",
       "</style>\n",
       "<table border=\"1\" class=\"dataframe\">\n",
       "  <thead>\n",
       "    <tr style=\"text-align: right;\">\n",
       "      <th></th>\n",
       "      <th>Cu supply (Mt)</th>\n",
       "    </tr>\n",
       "    <tr>\n",
       "      <th>Year</th>\n",
       "      <th></th>\n",
       "    </tr>\n",
       "  </thead>\n",
       "  <tbody>\n",
       "    <tr>\n",
       "      <th>1900</th>\n",
       "      <td>0.48</td>\n",
       "    </tr>\n",
       "    <tr>\n",
       "      <th>1901</th>\n",
       "      <td>0.50</td>\n",
       "    </tr>\n",
       "    <tr>\n",
       "      <th>1902</th>\n",
       "      <td>0.52</td>\n",
       "    </tr>\n",
       "    <tr>\n",
       "      <th>1903</th>\n",
       "      <td>0.54</td>\n",
       "    </tr>\n",
       "    <tr>\n",
       "      <th>1904</th>\n",
       "      <td>0.56</td>\n",
       "    </tr>\n",
       "  </tbody>\n",
       "</table>\n",
       "</div>"
      ],
      "text/plain": [
       "      Cu supply (Mt)\n",
       "Year                \n",
       "1900            0.48\n",
       "1901            0.50\n",
       "1902            0.52\n",
       "1903            0.54\n",
       "1904            0.56"
      ]
     },
     "execution_count": 4,
     "metadata": {},
     "output_type": "execute_result"
    }
   ],
   "source": [
    "# Production historique USGS\n",
    "df_hist_usgs = pd.read_csv(\"./data/USGS_historical_supply_1900_2023.csv\").set_index(\"Year\")\n",
    "df_hist_usgs.head()"
   ]
  },
  {
   "cell_type": "code",
   "execution_count": 5,
   "metadata": {},
   "outputs": [
    {
     "data": {
      "text/html": [
       "<div>\n",
       "<style scoped>\n",
       "    .dataframe tbody tr th:only-of-type {\n",
       "        vertical-align: middle;\n",
       "    }\n",
       "\n",
       "    .dataframe tbody tr th {\n",
       "        vertical-align: top;\n",
       "    }\n",
       "\n",
       "    .dataframe thead th {\n",
       "        text-align: right;\n",
       "    }\n",
       "</style>\n",
       "<table border=\"1\" class=\"dataframe\">\n",
       "  <thead>\n",
       "    <tr style=\"text-align: right;\">\n",
       "      <th></th>\n",
       "      <th>Cu supply (Mt)</th>\n",
       "    </tr>\n",
       "    <tr>\n",
       "      <th>Year</th>\n",
       "      <th></th>\n",
       "    </tr>\n",
       "  </thead>\n",
       "  <tbody>\n",
       "    <tr>\n",
       "      <th>2020</th>\n",
       "      <td>30.90</td>\n",
       "    </tr>\n",
       "    <tr>\n",
       "      <th>2025</th>\n",
       "      <td>36.10</td>\n",
       "    </tr>\n",
       "    <tr>\n",
       "      <th>2030</th>\n",
       "      <td>41.48</td>\n",
       "    </tr>\n",
       "    <tr>\n",
       "      <th>2035</th>\n",
       "      <td>47.14</td>\n",
       "    </tr>\n",
       "    <tr>\n",
       "      <th>2040</th>\n",
       "      <td>52.42</td>\n",
       "    </tr>\n",
       "  </tbody>\n",
       "</table>\n",
       "</div>"
      ],
      "text/plain": [
       "      Cu supply (Mt)\n",
       "Year                \n",
       "2020           30.90\n",
       "2025           36.10\n",
       "2030           41.48\n",
       "2035           47.14\n",
       "2040           52.42"
      ]
     },
     "execution_count": 5,
     "metadata": {},
     "output_type": "execute_result"
    }
   ],
   "source": [
    "# D'après Schipper et al. 2018 https://doi.org/10.1016/j.resconrec.2018.01.004\n",
    "df_futur = pd.read_csv(\"./data/total_supply_future_Schipper_2018.csv\").set_index(\"Year\")\n",
    "df_futur.head()"
   ]
  },
  {
   "cell_type": "code",
   "execution_count": 6,
   "metadata": {},
   "outputs": [
    {
     "data": {
      "image/png": "[encoded data removed]",
      "text/plain": [
       "<Figure size 576x432 with 1 Axes>"
      ]
     },
     "metadata": {
      "needs_background": "light"
     },
     "output_type": "display_data"
    }
   ],
   "source": [
    "# Plot des données\n",
    "\n",
    "plt.plot(df_hist_icsg.index, df_hist_icsg[\"Cu supply (Mt)\"], label=\"Demande historique (ICSG)\")\n",
    "plt.plot(df_hist_icsg.index, df_hist_icsg[\"Cu primary production (Mt)\"], label=\"Production primaire historique (ICSG)\")\n",
    "plt.plot(df_hist_usgs.index, df_hist_usgs[\"Cu supply (Mt)\"], label=\"Demande historique (USGS)\")\n",
    "plt.plot(df_futur.index, df_futur[\"Cu supply (Mt)\"], label=\"Demande future (Schipper18)\")\n",
    "\n",
    "plt.grid()\n",
    "plt.legend()\n",
    "plt.show()\n"
   ]
  },
  {
   "cell_type": "markdown",
   "metadata": {},
   "source": [
    "# Modélisation du recyclage du Cuivre"
   ]
  },
  {
   "cell_type": "code",
   "execution_count": 7,
   "metadata": {},
   "outputs": [
    {
     "name": "stdout",
     "output_type": "stream",
     "text": [
      "Résultat inversion moindres carrés :\n",
      "Taux de recyclage = 43.0%\n",
      "Temps de résidence = 37 ans\n"
     ]
    }
   ],
   "source": [
    "# Estimation tau et taux de recylage\n",
    "\n",
    "alpha = np.linspace(0.2,0.8,100)\n",
    "tau = np.arange(20,60)\n",
    "\n",
    "t0 = 1980\n",
    "i0 = t0 - 1960\n",
    "dt = t0 - 1900\n",
    "\n",
    "# On utilise la production primaire de l'ICGS \n",
    "primary_prod_t0_2022 = df_hist_icsg[df_hist_icsg.index>=t0][\"Cu primary production (Mt)\"].to_numpy()\n",
    "demand_t0_2022 = df_hist_icsg[df_hist_icsg.index>=t0][\"Cu supply (Mt)\"].to_numpy()\n",
    "demand_1900_t0 = df_hist_usgs[df_hist_usgs.index<t0][\"Cu supply (Mt)\"].to_numpy()\n",
    "demand_1900_2022 = np.hstack([demand_1900_t0,demand_t0_2022])\n",
    "\n",
    "# On calcule la production primaire théorique \n",
    "th_primary_prod = np.zeros((len(alpha),len(tau),len(primary_prod_t0_2022)))\n",
    "for i in range(len(alpha)):\n",
    "    for j in range(len(tau)):\n",
    "        th_primary_prod[i,j,:] = demand_t0_2022 - alpha[i] * demand_1900_2022[dt-tau[j]:-tau[j]]\n",
    "        \n",
    "# On calcule l'erreur de prediction\n",
    "error = np.sqrt(np.square(th_primary_prod - primary_prod_t0_2022).sum(axis=2))\n",
    "i_alpha,i_tau = np.unravel_index(error.argmin(), error.shape)\n",
    "\n",
    "print(\"Résultat inversion moindres carrés :\")\n",
    "print(f\"Taux de recyclage = {alpha[i_alpha]*100:.1f}%\")\n",
    "print(f\"Temps de résidence = {tau[i_tau]} ans\")"
   ]
  },
  {
   "cell_type": "code",
   "execution_count": 8,
   "metadata": {},
   "outputs": [
    {
     "data": {
      "image/png": "[encoded data removed]",
      "text/plain": [
       "<Figure size 576x432 with 1 Axes>"
      ]
     },
     "metadata": {
      "needs_background": "light"
     },
     "output_type": "display_data"
    }
   ],
   "source": [
    "# Plot du meilleur fit \n",
    "\n",
    "temps = np.arange(t0,2023)\n",
    "plt.plot(temps, demand_t0_2022,'k', label=\"Demande\")\n",
    "plt.plot(temps, primary_prod_t0_2022,'r', label=\"Production primaire - données\")\n",
    "plt.plot(temps, th_primary_prod[i_alpha,i_tau,:],c='orange', label=\"Production primaire - modèle\")\n",
    "plt.grid()\n",
    "plt.ylabel(\"Cuivre Mt/an\")\n",
    "plt.legend()\n",
    "\n",
    "plt.savefig(\"./figures/application_modele_cuivre.png\",dpi=200)\n",
    "plt.show()"
   ]
  },
  {
   "cell_type": "markdown",
   "metadata": {},
   "source": [
    "# Etude prospective de la consommation de Cuivre"
   ]
  },
  {
   "cell_type": "code",
   "execution_count": 9,
   "metadata": {},
   "outputs": [
    {
     "data": {
      "application/vnd.plotly.v1+json": {
       "config": {
        "plotlyServerURL": "https://plot.ly"
       },
       "data": [
        {
         "mode": "markers",
         "type": "scatter",
         "x": [
          1900,
          1901,
          1902,
          1903,
          1904,
          1905,
          1906,
          1907,
          1908,
          1909,
          1910,
          1911,
          1912,
          1913,
          1914,
          1915,
          1916,
          1917,
          1918,
          1919,
          1920,
          1921,
          1922,
          1923,
          1924,
          1925,
          1926,
          1927,
          1928,
          1929,
          1930,
          1931,
          1932,
          1933,
          1934,
          1935,
          1936,
          1937,
          1938,
          1939,
          1940,
          1941,
          1942,
          1943,
          1944,
          1945,
          1946,
          1947,
          1948,
          1949,
          1950,
          1951,
          1952,
          1953,
          1954,
          1955,
          1956,
          1957,
          1958,
          1959,
          1960,
          1961,
          1962,
          1963,
          1964,
          1965,
          1966,
          1967,
          1968,
          1969,
          1970,
          1971,
          1972,
          1973,
          1974,
          1975,
          1976,
          1977,
          1978,
          1979,
          1980,
          1981,
          1982,
          1983,
          1984,
          1985,
          1986,
          1987,
          1990,
          1991,
          1992,
          1993,
          1994,
          1995,
          1996,
          1997,
          1998,
          1999,
          2000,
          2001,
          2002,
          2003,
          2004,
          2005,
          2006,
          2007,
          2008,
          2009,
          2010,
          2011,
          2012,
          2013,
          2014,
          2015,
          2016,
          2017,
          2018,
          2019,
          2020,
          2021,
          2022,
          2023,
          2030,
          2035,
          2040,
          2045,
          2050,
          2055,
          2060,
          2065,
          2070,
          2075,
          2080,
          2085,
          2090,
          2095,
          2100
         ],
         "y": [
          0.48,
          0.5,
          0.52,
          0.54,
          0.56,
          0.57,
          0.6,
          0.63,
          0.66,
          0.71,
          0.76,
          0.8,
          0.84,
          0.84,
          0.82,
          0.9,
          1.05,
          1.2,
          1.34,
          1.13,
          0.96,
          0.61,
          0.71,
          0.91,
          1.11,
          1.2,
          1.27,
          1.33,
          1.53,
          1.73,
          1.5,
          1.27,
          1.04,
          1.01,
          1.2,
          1.4,
          1.59,
          1.79,
          1.98,
          2.01,
          2.26,
          2.4,
          2.42,
          2.43,
          2.33,
          2.2,
          2.06,
          2.11,
          2.34,
          2.57,
          2.54,
          2.8,
          2.95,
          3.07,
          3.22,
          3.54,
          3.82,
          3.82,
          3.82,
          3.97,
          4.3,
          4.64,
          4.87,
          4.81,
          5.13,
          5.44,
          5.76,
          6.07,
          6.06,
          6.37,
          6.79,
          7.02,
          7.1,
          7.63,
          8.38,
          8.11,
          7.7,
          8.11,
          8.67,
          9.03,
          9.38,
          9.42,
          9.38,
          9.12,
          9.05,
          9.56,
          9.77,
          9.81,
          10.64,
          10.64,
          10.46,
          10.44,
          10.62,
          10.91,
          11.38,
          11.84,
          12.31,
          12.76,
          13.31,
          14.19,
          14.71,
          14.73,
          15.03,
          15.52,
          16.48,
          16.55,
          16.92,
          17.77,
          17.75,
          17.74,
          19.01,
          19.72,
          20.61,
          21.55,
          22.64,
          22.87,
          23.18,
          23.57,
          24.09,
          24.4,
          24.8,
          25.3,
          41.48,
          47.14,
          52.42,
          57.48,
          61.85,
          66.43,
          70.53,
          74.15,
          77.37,
          80.37,
          83.1,
          85.37,
          87.48,
          89.3,
          91.3
         ]
        },
        {
         "mode": "lines",
         "type": "scatter",
         "x": [
          1940,
          1941,
          1942,
          1943,
          1944,
          1945,
          1946,
          1947,
          1948,
          1949,
          1950,
          1951,
          1952,
          1953,
          1954,
          1955,
          1956,
          1957,
          1958,
          1959,
          1960,
          1961,
          1962,
          1963,
          1964,
          1965,
          1966,
          1967,
          1968,
          1969,
          1970,
          1971,
          1972,
          1973,
          1974,
          1975,
          1976,
          1977,
          1978,
          1979,
          1980,
          1981,
          1982,
          1983,
          1984,
          1985,
          1986,
          1987,
          1988,
          1989,
          1990,
          1991,
          1992,
          1993,
          1994,
          1995,
          1996,
          1997,
          1998,
          1999,
          2000,
          2001,
          2002,
          2003,
          2004,
          2005,
          2006,
          2007,
          2008,
          2009,
          2010,
          2011,
          2012,
          2013,
          2014,
          2015,
          2016,
          2017,
          2018,
          2019,
          2020,
          2021,
          2022,
          2023,
          2024,
          2025,
          2026,
          2027,
          2028,
          2029,
          2030,
          2031,
          2032,
          2033,
          2034,
          2035,
          2036,
          2037,
          2038,
          2039,
          2040,
          2041,
          2042,
          2043,
          2044,
          2045,
          2046,
          2047,
          2048,
          2049,
          2050,
          2051,
          2052,
          2053,
          2054,
          2055,
          2056,
          2057,
          2058,
          2059,
          2060,
          2061,
          2062,
          2063,
          2064,
          2065,
          2066,
          2067,
          2068,
          2069,
          2070,
          2071,
          2072,
          2073,
          2074,
          2075,
          2076,
          2077,
          2078,
          2079,
          2080,
          2081,
          2082,
          2083,
          2084,
          2085,
          2086,
          2087,
          2088,
          2089,
          2090,
          2091,
          2092,
          2093,
          2094,
          2095,
          2096,
          2097,
          2098,
          2099
         ],
         "y": [
          2.26,
          2.4,
          2.42,
          2.43,
          2.33,
          2.2,
          2.06,
          2.11,
          2.34,
          2.57,
          2.54,
          2.8,
          2.95,
          3.07,
          3.22,
          3.54,
          3.82,
          3.82,
          3.82,
          3.97,
          4.3,
          4.64,
          4.87,
          4.81,
          5.13,
          5.44,
          5.76,
          6.07,
          6.06,
          6.37,
          6.79,
          7.02,
          7.1,
          7.63,
          8.38,
          8.11,
          7.7,
          8.11,
          8.67,
          9.03,
          9.38,
          9.42,
          9.38,
          9.12,
          9.05,
          9.56,
          9.77,
          9.81,
          10.086666666666668,
          10.363333333333333,
          10.64,
          10.64,
          10.46,
          10.44,
          10.62,
          10.91,
          11.38,
          11.84,
          12.31,
          12.76,
          13.31,
          14.19,
          14.71,
          14.73,
          15.03,
          15.52,
          16.48,
          16.55,
          16.92,
          17.77,
          17.75,
          17.74,
          19.01,
          19.72,
          20.61,
          21.55,
          22.64,
          22.87,
          23.18,
          23.57,
          24.09,
          24.4,
          24.8,
          25.3,
          27.611428571428572,
          29.922857142857143,
          32.23428571428571,
          34.54571428571428,
          36.857142857142854,
          39.168571428571425,
          41.48,
          42.611999999999995,
          43.744,
          44.876,
          46.008,
          47.14,
          48.196,
          49.252,
          50.308,
          51.364000000000004,
          52.42,
          53.432,
          54.444,
          55.455999999999996,
          56.467999999999996,
          57.48,
          58.354,
          59.228,
          60.102,
          60.976,
          61.85,
          62.766000000000005,
          63.682,
          64.598,
          65.51400000000001,
          66.43,
          67.25,
          68.07000000000001,
          68.89,
          69.71000000000001,
          70.53,
          71.254,
          71.97800000000001,
          72.702,
          73.426,
          74.15,
          74.79400000000001,
          75.438,
          76.08200000000001,
          76.726,
          77.37,
          77.97,
          78.57000000000001,
          79.17,
          79.77000000000001,
          80.37,
          80.916,
          81.462,
          82.008,
          82.554,
          83.1,
          83.554,
          84.008,
          84.462,
          84.916,
          85.37,
          85.792,
          86.214,
          86.63600000000001,
          87.058,
          87.48,
          87.84400000000001,
          88.208,
          88.572,
          88.93599999999999,
          89.3,
          89.7,
          90.1,
          90.5,
          90.89999999999999
         ]
        }
       ],
       "layout": {
        "template": {
         "data": {
          "bar": [
           {
            "error_x": {
             "color": "#2a3f5f"
            },
            "error_y": {
             "color": "#2a3f5f"
            },
            "marker": {
             "line": {
              "color": "#E5ECF6",
              "width": 0.5
             },
             "pattern": {
              "fillmode": "overlay",
              "size": 10,
              "solidity": 0.2
             }
            },
            "type": "bar"
           }
          ],
          "barpolar": [
           {
            "marker": {
             "line": {
              "color": "#E5ECF6",
              "width": 0.5
             },
             "pattern": {
              "fillmode": "overlay",
              "size": 10,
              "solidity": 0.2
             }
            },
            "type": "barpolar"
           }
          ],
          "carpet": [
           {
            "aaxis": {
             "endlinecolor": "#2a3f5f",
             "gridcolor": "white",
             "linecolor": "white",
             "minorgridcolor": "white",
             "startlinecolor": "#2a3f5f"
            },
            "baxis": {
             "endlinecolor": "#2a3f5f",
             "gridcolor": "white",
             "linecolor": "white",
             "minorgridcolor": "white",
             "startlinecolor": "#2a3f5f"
            },
            "type": "carpet"
           }
          ],
          "choropleth": [
           {
            "colorbar": {
             "outlinewidth": 0,
             "ticks": ""
            },
            "type": "choropleth"
           }
          ],
          "contour": [
           {
            "colorbar": {
             "outlinewidth": 0,
             "ticks": ""
            },
            "colorscale": [
             [
              0,
              "#0d0887"
             ],
             [
              0.1111111111111111,
              "#46039f"
             ],
             [
              0.2222222222222222,
              "#7201a8"
             ],
             [
              0.3333333333333333,
              "#9c179e"
             ],
             [
              0.4444444444444444,
              "#bd3786"
             ],
             [
              0.5555555555555556,
              "#d8576b"
             ],
             [
              0.6666666666666666,
              "#ed7953"
             ],
             [
              0.7777777777777778,
              "#fb9f3a"
             ],
             [
              0.8888888888888888,
              "#fdca26"
             ],
             [
              1,
              "#f0f921"
             ]
            ],
            "type": "contour"
           }
          ],
          "contourcarpet": [
           {
            "colorbar": {
             "outlinewidth": 0,
             "ticks": ""
            },
            "type": "contourcarpet"
           }
          ],
          "heatmap": [
           {
            "colorbar": {
             "outlinewidth": 0,
             "ticks": ""
            },
            "colorscale": [
             [
              0,
              "#0d0887"
             ],
             [
              0.1111111111111111,
              "#46039f"
             ],
             [
              0.2222222222222222,
              "#7201a8"
             ],
             [
              0.3333333333333333,
              "#9c179e"
             ],
             [
              0.4444444444444444,
              "#bd3786"
             ],
             [
              0.5555555555555556,
              "#d8576b"
             ],
             [
              0.6666666666666666,
              "#ed7953"
             ],
             [
              0.7777777777777778,
              "#fb9f3a"
             ],
             [
              0.8888888888888888,
              "#fdca26"
             ],
             [
              1,
              "#f0f921"
             ]
            ],
            "type": "heatmap"
           }
          ],
          "heatmapgl": [
           {
            "colorbar": {
             "outlinewidth": 0,
             "ticks": ""
            },
            "colorscale": [
             [
              0,
              "#0d0887"
             ],
             [
              0.1111111111111111,
              "#46039f"
             ],
             [
              0.2222222222222222,
              "#7201a8"
             ],
             [
              0.3333333333333333,
              "#9c179e"
             ],
             [
              0.4444444444444444,
              "#bd3786"
             ],
             [
              0.5555555555555556,
              "#d8576b"
             ],
             [
              0.6666666666666666,
              "#ed7953"
             ],
             [
              0.7777777777777778,
              "#fb9f3a"
             ],
             [
              0.8888888888888888,
              "#fdca26"
             ],
             [
              1,
              "#f0f921"
             ]
            ],
            "type": "heatmapgl"
           }
          ],
          "histogram": [
           {
            "marker": {
             "pattern": {
              "fillmode": "overlay",
              "size": 10,
              "solidity": 0.2
             }
            },
            "type": "histogram"
           }
          ],
          "histogram2d": [
           {
            "colorbar": {
             "outlinewidth": 0,
             "ticks": ""
            },
            "colorscale": [
             [
              0,
              "#0d0887"
             ],
             [
              0.1111111111111111,
              "#46039f"
             ],
             [
              0.2222222222222222,
              "#7201a8"
             ],
             [
              0.3333333333333333,
              "#9c179e"
             ],
             [
              0.4444444444444444,
              "#bd3786"
             ],
             [
              0.5555555555555556,
              "#d8576b"
             ],
             [
              0.6666666666666666,
              "#ed7953"
             ],
             [
              0.7777777777777778,
              "#fb9f3a"
             ],
             [
              0.8888888888888888,
              "#fdca26"
             ],
             [
              1,
              "#f0f921"
             ]
            ],
            "type": "histogram2d"
           }
          ],
          "histogram2dcontour": [
           {
            "colorbar": {
             "outlinewidth": 0,
             "ticks": ""
            },
            "colorscale": [
             [
              0,
              "#0d0887"
             ],
             [
              0.1111111111111111,
              "#46039f"
             ],
             [
              0.2222222222222222,
              "#7201a8"
             ],
             [
              0.3333333333333333,
              "#9c179e"
             ],
             [
              0.4444444444444444,
              "#bd3786"
             ],
             [
              0.5555555555555556,
              "#d8576b"
             ],
             [
              0.6666666666666666,
              "#ed7953"
             ],
             [
              0.7777777777777778,
              "#fb9f3a"
             ],
             [
              0.8888888888888888,
              "#fdca26"
             ],
             [
              1,
              "#f0f921"
             ]
            ],
            "type": "histogram2dcontour"
           }
          ],
          "mesh3d": [
           {
            "colorbar": {
             "outlinewidth": 0,
             "ticks": ""
            },
            "type": "mesh3d"
           }
          ],
          "parcoords": [
           {
            "line": {
             "colorbar": {
              "outlinewidth": 0,
              "ticks": ""
             }
            },
            "type": "parcoords"
           }
          ],
          "pie": [
           {
            "automargin": true,
            "type": "pie"
           }
          ],
          "scatter": [
           {
            "marker": {
             "colorbar": {
              "outlinewidth": 0,
              "ticks": ""
             }
            },
            "type": "scatter"
           }
          ],
          "scatter3d": [
           {
            "line": {
             "colorbar": {
              "outlinewidth": 0,
              "ticks": ""
             }
            },
            "marker": {
             "colorbar": {
              "outlinewidth": 0,
              "ticks": ""
             }
            },
            "type": "scatter3d"
           }
          ],
          "scattercarpet": [
           {
            "marker": {
             "colorbar": {
              "outlinewidth": 0,
              "ticks": ""
             }
            },
            "type": "scattercarpet"
           }
          ],
          "scattergeo": [
           {
            "marker": {
             "colorbar": {
              "outlinewidth": 0,
              "ticks": ""
             }
            },
            "type": "scattergeo"
           }
          ],
          "scattergl": [
           {
            "marker": {
             "colorbar": {
              "outlinewidth": 0,
              "ticks": ""
             }
            },
            "type": "scattergl"
           }
          ],
          "scattermapbox": [
           {
            "marker": {
             "colorbar": {
              "outlinewidth": 0,
              "ticks": ""
             }
            },
            "type": "scattermapbox"
           }
          ],
          "scatterpolar": [
           {
            "marker": {
             "colorbar": {
              "outlinewidth": 0,
              "ticks": ""
             }
            },
            "type": "scatterpolar"
           }
          ],
          "scatterpolargl": [
           {
            "marker": {
             "colorbar": {
              "outlinewidth": 0,
              "ticks": ""
             }
            },
            "type": "scatterpolargl"
           }
          ],
          "scatterternary": [
           {
            "marker": {
             "colorbar": {
              "outlinewidth": 0,
              "ticks": ""
             }
            },
            "type": "scatterternary"
           }
          ],
          "surface": [
           {
            "colorbar": {
             "outlinewidth": 0,
             "ticks": ""
            },
            "colorscale": [
             [
              0,
              "#0d0887"
             ],
             [
              0.1111111111111111,
              "#46039f"
             ],
             [
              0.2222222222222222,
              "#7201a8"
             ],
             [
              0.3333333333333333,
              "#9c179e"
             ],
             [
              0.4444444444444444,
              "#bd3786"
             ],
             [
              0.5555555555555556,
              "#d8576b"
             ],
             [
              0.6666666666666666,
              "#ed7953"
             ],
             [
              0.7777777777777778,
              "#fb9f3a"
             ],
             [
              0.8888888888888888,
              "#fdca26"
             ],
             [
              1,
              "#f0f921"
             ]
            ],
            "type": "surface"
           }
          ],
          "table": [
           {
            "cells": {
             "fill": {
              "color": "#EBF0F8"
             },
             "line": {
              "color": "white"
             }
            },
            "header": {
             "fill": {
              "color": "#C8D4E3"
             },
             "line": {
              "color": "white"
             }
            },
            "type": "table"
           }
          ]
         },
         "layout": {
          "annotationdefaults": {
           "arrowcolor": "#2a3f5f",
           "arrowhead": 0,
           "arrowwidth": 1
          },
          "autotypenumbers": "strict",
          "coloraxis": {
           "colorbar": {
            "outlinewidth": 0,
            "ticks": ""
           }
          },
          "colorscale": {
           "diverging": [
            [
             0,
             "#8e0152"
            ],
            [
             0.1,
             "#c51b7d"
            ],
            [
             0.2,
             "#de77ae"
            ],
            [
             0.3,
             "#f1b6da"
            ],
            [
             0.4,
             "#fde0ef"
            ],
            [
             0.5,
             "#f7f7f7"
            ],
            [
             0.6,
             "#e6f5d0"
            ],
            [
             0.7,
             "#b8e186"
            ],
            [
             0.8,
             "#7fbc41"
            ],
            [
             0.9,
             "#4d9221"
            ],
            [
             1,
             "#276419"
            ]
           ],
           "sequential": [
            [
             0,
             "#0d0887"
            ],
            [
             0.1111111111111111,
             "#46039f"
            ],
            [
             0.2222222222222222,
             "#7201a8"
            ],
            [
             0.3333333333333333,
             "#9c179e"
            ],
            [
             0.4444444444444444,
             "#bd3786"
            ],
            [
             0.5555555555555556,
             "#d8576b"
            ],
            [
             0.6666666666666666,
             "#ed7953"
            ],
            [
             0.7777777777777778,
             "#fb9f3a"
            ],
            [
             0.8888888888888888,
             "#fdca26"
            ],
            [
             1,
             "#f0f921"
            ]
           ],
           "sequentialminus": [
            [
             0,
             "#0d0887"
            ],
            [
             0.1111111111111111,
             "#46039f"
            ],
            [
             0.2222222222222222,
             "#7201a8"
            ],
            [
             0.3333333333333333,
             "#9c179e"
            ],
            [
             0.4444444444444444,
             "#bd3786"
            ],
            [
             0.5555555555555556,
             "#d8576b"
            ],
            [
             0.6666666666666666,
             "#ed7953"
            ],
            [
             0.7777777777777778,
             "#fb9f3a"
            ],
            [
             0.8888888888888888,
             "#fdca26"
            ],
            [
             1,
             "#f0f921"
            ]
           ]
          },
          "colorway": [
           "#636efa",
           "#EF553B",
           "#00cc96",
           "#ab63fa",
           "#FFA15A",
           "#19d3f3",
           "#FF6692",
           "#B6E880",
           "#FF97FF",
           "#FECB52"
          ],
          "font": {
           "color": "#2a3f5f"
          },
          "geo": {
           "bgcolor": "white",
           "lakecolor": "white",
           "landcolor": "#E5ECF6",
           "showlakes": true,
           "showland": true,
           "subunitcolor": "white"
          },
          "hoverlabel": {
           "align": "left"
          },
          "hovermode": "closest",
          "mapbox": {
           "style": "light"
          },
          "paper_bgcolor": "white",
          "plot_bgcolor": "#E5ECF6",
          "polar": {
           "angularaxis": {
            "gridcolor": "white",
            "linecolor": "white",
            "ticks": ""
           },
           "bgcolor": "#E5ECF6",
           "radialaxis": {
            "gridcolor": "white",
            "linecolor": "white",
            "ticks": ""
           }
          },
          "scene": {
           "xaxis": {
            "backgroundcolor": "#E5ECF6",
            "gridcolor": "white",
            "gridwidth": 2,
            "linecolor": "white",
            "showbackground": true,
            "ticks": "",
            "zerolinecolor": "white"
           },
           "yaxis": {
            "backgroundcolor": "#E5ECF6",
            "gridcolor": "white",
            "gridwidth": 2,
            "linecolor": "white",
            "showbackground": true,
            "ticks": "",
            "zerolinecolor": "white"
           },
           "zaxis": {
            "backgroundcolor": "#E5ECF6",
            "gridcolor": "white",
            "gridwidth": 2,
            "linecolor": "white",
            "showbackground": true,
            "ticks": "",
            "zerolinecolor": "white"
           }
          },
          "shapedefaults": {
           "line": {
            "color": "#2a3f5f"
           }
          },
          "ternary": {
           "aaxis": {
            "gridcolor": "white",
            "linecolor": "white",
            "ticks": ""
           },
           "baxis": {
            "gridcolor": "white",
            "linecolor": "white",
            "ticks": ""
           },
           "bgcolor": "#E5ECF6",
           "caxis": {
            "gridcolor": "white",
            "linecolor": "white",
            "ticks": ""
           }
          },
          "title": {
           "x": 0.05
          },
          "xaxis": {
           "automargin": true,
           "gridcolor": "white",
           "linecolor": "white",
           "ticks": "",
           "title": {
            "standoff": 15
           },
           "zerolinecolor": "white",
           "zerolinewidth": 2
          },
          "yaxis": {
           "automargin": true,
           "gridcolor": "white",
           "linecolor": "white",
           "ticks": "",
           "title": {
            "standoff": 15
           },
           "zerolinecolor": "white",
           "zerolinewidth": 2
          }
         }
        }
       }
      }
     },
     "metadata": {},
     "output_type": "display_data"
    }
   ],
   "source": [
    "# Scénario de demande total\n",
    "# On choisit de ne prendre la projection qu'à partir de 2030, on interpole linéairement entre\n",
    "df_futur_b = df_futur[df_futur.index>=2030]\n",
    "\n",
    "year_raw = np.concatenate((df_hist_usgs.index.to_numpy(),df_futur_b.index.to_numpy()))\n",
    "cu_demand_raw = np.concatenate((df_hist_usgs[\"Cu supply (Mt)\"].to_numpy(),df_futur_b[\"Cu supply (Mt)\"].to_numpy()))\n",
    "\n",
    "# Interpolation linéaire\n",
    "f = interp1d(year_raw, cu_demand_raw, kind='linear', fill_value=\"extrapolate\")\n",
    "year = np.arange(1940,2100)\n",
    "cu_demand_linear = f(year)\n",
    "\n",
    "# fit d'un polynome de degré N\n",
    "N = 6\n",
    "coefficients = np.polyfit(year_raw, cu_demand_raw, N)\n",
    "poly_function = np.poly1d(coefficients)\n",
    "cu_demand_poly = poly_function(year)\n",
    "\n",
    "# spline\n",
    "spline_interpolation = interp1d(year_raw, cu_demand_raw, kind='cubic')\n",
    "cu_demand_lag = spline_interpolation(year)\n",
    "\n",
    "# Plot\n",
    "fig = go.Figure()\n",
    "fig.add_trace(go.Scatter(x=year_raw, y=cu_demand_raw, mode='markers'))\n",
    "fig.add_trace(go.Scatter(x=year, y=cu_demand_linear, mode='lines'))\n",
    "# fig.add_trace(go.Scatter(x=year, y=cu_demand_poly, mode='lines'))\n",
    "# fig.add_trace(go.Scatter(x=year, y=cu_demand_lag, mode='lines'))\n"
   ]
  },
  {
   "cell_type": "code",
   "execution_count": 10,
   "metadata": {},
   "outputs": [],
   "source": [
    "# On garde le modèle en interpolation cubique\n",
    "cu_demand = cu_demand_linear\n",
    "\n",
    "# On prend les taux trouvés précedemment\n",
    "taux_recy = 0.43\n",
    "tps_res = 37\n",
    "\n",
    "p_II = taux_recy * cu_demand[:-tps_res]\n",
    "p_I = cu_demand[tps_res:] - p_II"
   ]
  },
  {
   "cell_type": "code",
   "execution_count": 11,
   "metadata": {},
   "outputs": [
    {
     "data": {
      "image/png": "[encoded data removed]",
      "text/plain": [
       "<Figure size 576x432 with 1 Axes>"
      ]
     },
     "metadata": {
      "needs_background": "light"
     },
     "output_type": "display_data"
    }
   ],
   "source": [
    "# Plot des données\n",
    "\n",
    "plt.axvline(2024,color=\"gray\",ls=\":\")\n",
    "\n",
    "# Demande modèle\n",
    "plt.plot(year[tps_res:],cu_demand[tps_res:],\"k\",label=\"Demande\")\n",
    "\n",
    "# Résultats modélisation\n",
    "plt.plot(year[tps_res:], p_I, 'r', label=\"Production primaire (modèle)\")\n",
    "# Production primaire historique\n",
    "df_tmp = df_hist_icsg[df_hist_icsg.index > 1940+tps_res]\n",
    "plt.plot(df_tmp.index,df_tmp[\"Cu primary production (Mt)\"],c=\"orange\",label='Production primaire (historique)')\n",
    "\n",
    "plt.plot(year[tps_res:], p_II, 'b', label=\"Production secondaire\")\n",
    "\n",
    "plt.grid()\n",
    "plt.ylabel(\"Cuivre Mt/an\")\n",
    "plt.legend()\n",
    "plt.savefig(\"./figures/prospective_cuivre_1.png\",dpi=200)\n",
    "\n",
    "plt.show()\n"
   ]
  },
  {
   "cell_type": "code",
   "execution_count": 12,
   "metadata": {},
   "outputs": [],
   "source": [
    "import matplotlib.colors as colors\n",
    "import matplotlib.cm as cmx"
   ]
  },
  {
   "cell_type": "code",
   "execution_count": 13,
   "metadata": {},
   "outputs": [
    {
     "data": {
      "image/png": "[encoded data removed]",
      "text/plain": [
       "<Figure size 576x432 with 2 Axes>"
      ]
     },
     "metadata": {
      "needs_background": "light"
     },
     "output_type": "display_data"
    }
   ],
   "source": [
    "# Ajout de random : on tire le taux de recyclage parmi une normale \n",
    "N = 200\n",
    "\n",
    "tr = np.linspace(0.4,1.,N)\n",
    "color_map = cmx.ScalarMappable(norm=colors.Normalize(vmin=0.4, vmax=1.), cmap='viridis')\n",
    "\n",
    "\n",
    "p_I_rd = cu_demand[tps_res:] - np.outer(tr,cu_demand[:-tps_res])\n",
    "\n",
    "for n in range(N):\n",
    "    plt.plot(year[tps_res:],p_I_rd[n,:],color=color_map.to_rgba(tr[n]))\n",
    "    \n",
    "plt.plot(year[tps_res:],cu_demand[tps_res:],\"k\",label=\"Demande\")\n",
    "plt.plot(year[tps_res:],p_I,\"r\",label=\"Production primaire\")\n",
    "plt.plot(year[tps_res:], p_II, 'b', label=\"Production secondaire\")\n",
    "\n",
    "\n",
    "plt.colorbar(color_map,ax=plt.gca(), label=\"Taux de recyclage\")\n",
    "    \n",
    "plt.ylabel(\"Cuivre Mt/an\")\n",
    "plt.legend()\n",
    "plt.grid()\n",
    "\n",
    "plt.savefig(\"./figures/prospective_cuivre_2.png\",dpi=200)\n",
    "\n"
   ]
  },
  {
   "cell_type": "markdown",
   "metadata": {},
   "source": [
    "# Modèle conceptuel\n",
    "\n",
    "On a pour toute année $n$ : $D_n = P^I_n + P^{II}_n$\n",
    "On connaît $D_n$, on cherche à modèliser $P^{II}_n$\n",
    "\n",
    "**Premier modèle :**\n",
    "\n",
    "$$\n",
    "P^{II}_n = \\alpha D_{n-M}\n",
    "$$\n",
    "\n",
    "Avec $\\alpha$ le taux de recyclage, $M$ le nombre d'année d'immobilisation du Cuivre.\n",
    "Tout le cuivre est remobilisé après $M$ année d'utilisation.\n",
    "\n",
    "**Second modèle (non implémenté) :**\n",
    "\n",
    "Décomission lissée du cuivre : taux de décommision $\\gamma$ suit une loi normale :\n",
    "$$\n",
    "\\gamma(t) = \\frac{1}{\\sigma \\sqrt{2\\pi}}\\exp \\left[ -\\frac{(t-\\tau)^2}{2\\sigma^2} \\right]\n",
    "$$\n",
    "\n",
    "On a ainsi : \n",
    "$$\n",
    "P^{II}_n = \\alpha\\sum_{m=0}^{n-1}D_m \\gamma_{n-m}\n",
    "$$\n"
   ]
  },
  {
   "cell_type": "code",
   "execution_count": 14,
   "metadata": {},
   "outputs": [
    {
     "data": {
      "image/png": "[encoded data removed]",
      "text/plain": [
       "<Figure size 576x432 with 1 Axes>"
      ]
     },
     "metadata": {
      "needs_background": "light"
     },
     "output_type": "display_data"
    }
   ],
   "source": [
    "# demande synthétique 1 : croissance perpétuelle avec \n",
    "\n",
    "d_inf = 100.\n",
    "sigma = 5e-2 \n",
    "t_center = 2030.\n",
    "taux_recy = 0.7\n",
    "tps_res = 30\n",
    "\n",
    "d = lambda t : d_inf / (1 + np.exp(-sigma * (t-t_center)))\n",
    "p_II = lambda t : taux_recy * d(t-tps_res)\n",
    "p_I = lambda t : d(t) - p_II(t)\n",
    "\n",
    "\n",
    "time = np.arange(1950,2200)\n",
    "\n",
    "plt.plot(time,d(time),\"k\",label=\"Demande\")\n",
    "plt.plot(time,p_II(time),\"b\",label=\"Production secondaire (recyclage)\")\n",
    "plt.plot(time,p_I(time),\"r\",label=\"Production primaire (mine)\")\n",
    "plt.ylabel(\"Métal t/an\")\n",
    "plt.legend()\n",
    "plt.grid()\n",
    "\n",
    "plt.savefig(\"./figures/demande_synthetique_1.png\",dpi=200)\n"
   ]
  },
  {
   "cell_type": "code",
   "execution_count": 15,
   "metadata": {},
   "outputs": [],
   "source": [
    "# Calcul du max de la production minière selon tau et tr\n",
    "time = np.arange(2000,2100)\n",
    "\n",
    "d = lambda t : d_inf / (1 + np.exp(-sigma * (t-t_center)))\n",
    "p_II = lambda t,tr,tau : tr * d(t-tau)\n",
    "p_I = lambda t,tr,tau : d(t) - p_II(t,tr,tau)\n",
    "\n",
    "p_Imax = np.zeros((100,100))\n",
    "\n",
    "tau_ = np.linspace(10,100,100)\n",
    "tr_ = np.linspace(0.0,1.0,100)\n",
    "\n",
    "for i,tau in enumerate(tau_):\n",
    "    for j,tr in enumerate(tr_):\n",
    "        p_Imax[i,j] = np.max(p_I(time,tr,tau))\n",
    "        "
   ]
  },
  {
   "cell_type": "code",
   "execution_count": 16,
   "metadata": {},
   "outputs": [
    {
     "data": {
      "image/png": "[encoded data removed]",
      "text/plain": [
       "<Figure size 576x432 with 2 Axes>"
      ]
     },
     "metadata": {
      "needs_background": "light"
     },
     "output_type": "display_data"
    }
   ],
   "source": [
    "cmap = plt.contourf(tau_,tr_*100,p_Imax[::-1,::-1],levels=20,cmap=\"plasma\")\n",
    "plt.colorbar(cmap,label=\"Maximum de production primaire\")\n",
    "plt.gca().yaxis.set_major_formatter(ticker.PercentFormatter())\n",
    "plt.xlabel(\"Temps de résidence (années)\")\n",
    "plt.ylabel(\"Taux de recyclage\")\n",
    "\n",
    "plt.savefig(\"./figures/maximum_production_map.png\",dpi=200)\n"
   ]
  }
 ],
 "metadata": {
  "kernelspec": {
   "display_name": "base",
   "language": "python",
   "name": "python3"
  },
  "language_info": {
   "codemirror_mode": {
    "name": "ipython",
    "version": 3
   },
   "file_extension": ".py",
   "mimetype": "text/x-python",
   "name": "python",
   "nbconvert_exporter": "python",
   "pygments_lexer": "ipython3",
   "version": "3.9.12"
  }
 },
 "nbformat": 4,
 "nbformat_minor": 2
}
